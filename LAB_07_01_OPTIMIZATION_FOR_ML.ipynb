{
  "nbformat": 4,
  "nbformat_minor": 0,
  "metadata": {
    "kernelspec": {
      "display_name": "Python 3",
      "language": "python",
      "name": "python3"
    },
    "language_info": {
      "codemirror_mode": {
        "name": "ipython",
        "version": 3
      },
      "file_extension": ".py",
      "mimetype": "text/x-python",
      "name": "python",
      "nbconvert_exporter": "python",
      "pygments_lexer": "ipython3",
      "version": "3.7.6"
    },
    "colab": {
      "name": "Copy of LAB 07.01 - OPTIMIZATION FOR ML.ipynb",
      "provenance": []
    }
  },
  "cells": [
    {
      "cell_type": "markdown",
      "metadata": {
        "id": "Ut4R3IOUn_2o"
      },
      "source": [
        "# LAB 07.01 - Optimization for ML"
      ]
    },
    {
      "cell_type": "code",
      "metadata": {
        "id": "SDXNyx_Qn_2w",
        "colab": {
          "base_uri": "https://localhost:8080/",
          "height": 122
        },
        "outputId": "4686c0df-ca5a-4ca2-b39a-900e5b5ee97f"
      },
      "source": [
        "!wget --no-cache -O init.py -q https://raw.githubusercontent.com/rramosp/20201.xai4eng/master/content/init.py\n",
        "import init; init.init(force_download=False); init.get_weblink()\n"
      ],
      "execution_count": null,
      "outputs": [
        {
          "output_type": "stream",
          "text": [
            "enabling encryption...\n",
            "encryption enabled\n",
            "replicating local resources\n",
            "endpoint https://m5knaekxo6.execute-api.us-west-2.amazonaws.com/dev-v0001/rlxmooc\n"
          ],
          "name": "stdout"
        },
        {
          "output_type": "execute_result",
          "data": {
            "text/html": [
              "<h3>See <a href='https://m5knaekxo6.execute-api.us-west-2.amazonaws.com/dev-v0001/rlxmooc/web/login' target='_blank'>my courses and progress</a></h2>"
            ],
            "text/plain": [
              "<IPython.core.display.HTML object>"
            ]
          },
          "metadata": {
            "tags": []
          },
          "execution_count": 1
        }
      ]
    },
    {
      "cell_type": "code",
      "metadata": {
        "id": "LZFwiN3dn_2y",
        "colab": {
          "base_uri": "https://localhost:8080/",
          "height": 106
        },
        "outputId": "251d21f0-3076-4746-de7f-0dab9d5b0c76"
      },
      "source": [
        "from local.lib.rlxmoocapi import submit, session\n",
        "student = session.Session(init.endpoint).login( course_id=init.course_id, \n",
        "                                                session_id=\"UDEA\", \n",
        "                                                lab_id=\"L07.01\" )\n",
        "init.get_weblink()"
      ],
      "execution_count": null,
      "outputs": [
        {
          "output_type": "stream",
          "text": [
            "username: davida.torres@udea.edu.co\n",
            "password: ··········\n",
            "endpoint https://m5knaekxo6.execute-api.us-west-2.amazonaws.com/dev-v0001/rlxmooc\n"
          ],
          "name": "stdout"
        },
        {
          "output_type": "execute_result",
          "data": {
            "text/html": [
              "<h3>See <a href='https://m5knaekxo6.execute-api.us-west-2.amazonaws.com/dev-v0001/rlxmooc/web/login' target='_blank'>my courses and progress</a></h2>"
            ],
            "text/plain": [
              "<IPython.core.display.HTML object>"
            ]
          },
          "metadata": {
            "tags": []
          },
          "execution_count": 2
        }
      ]
    },
    {
      "cell_type": "code",
      "metadata": {
        "id": "1aISNtU8n_2y"
      },
      "source": [
        "from sklearn.datasets import make_moons\n",
        "import numpy as np\n",
        "import matplotlib.pyplot as plt\n",
        "import pandas as pd\n",
        "from local.lib import mlutils\n",
        "%matplotlib inline"
      ],
      "execution_count": null,
      "outputs": []
    },
    {
      "cell_type": "markdown",
      "metadata": {
        "id": "9sErTRE8n_2z"
      },
      "source": [
        "## Dataset \n",
        "\n",
        "you have data in a matrix $\\mathbf{X} \\in \\mathbb{R}^{m\\times n}$ and the corresponding labels $\\mathbf{y} \\in \\mathbb{R}^m$.\n",
        "\n",
        "each row in matrix $\\mathbf{X}$ contains one data point $\\mathbf{x}^{(i)}$\n",
        "\n",
        "$$\\begin{bmatrix}\n",
        " x^{(0)}\\\\\n",
        " x^{(1)}\\\\\n",
        " ... \\\\\n",
        " x^{(m-1)} \n",
        "\\end{bmatrix}\n",
        "$$\n",
        "\n",
        "and each data point is a vector $\\mathbf{x}^{(i)}=[x^{(i)}_0, x^{(i)}_1,...,x^{(i)}_{n-1}]$.\n",
        "\n",
        "Also, each data point has an associated label $\\mathbf{y} = [y^{(0)}, y^{(1)},..., y^{(m-1)}]$.\n",
        "\n",
        "We will be doing **binary classification** so $y^{(0)}\\in \\{0,1\\}$"
      ]
    },
    {
      "cell_type": "code",
      "metadata": {
        "id": "WXOuNf75n_2z",
        "colab": {
          "base_uri": "https://localhost:8080/"
        },
        "outputId": "ee4d97fa-7b12-4c1f-b094-435d37ac56c9"
      },
      "source": [
        "\n",
        "d = pd.read_csv(\"local/data/moons.csv\")\n",
        "X = d[[\"col1\", \"col2\"]].values\n",
        "y = d[\"target\"].values\n",
        "print (\"m=%d\\nn=%d\"%(X.shape[0], X.shape[1]))\n",
        "X.shape, y.shape\n"
      ],
      "execution_count": null,
      "outputs": [
        {
          "output_type": "stream",
          "text": [
            "m=200\n",
            "n=2\n"
          ],
          "name": "stdout"
        },
        {
          "output_type": "execute_result",
          "data": {
            "text/plain": [
              "((200, 2), (200,))"
            ]
          },
          "metadata": {
            "tags": []
          },
          "execution_count": 4
        }
      ]
    },
    {
      "cell_type": "code",
      "metadata": {
        "id": "i7sHZOJTn_21",
        "colab": {
          "base_uri": "https://localhost:8080/"
        },
        "outputId": "87bb63b3-1441-4224-e155-7651aba6b26f"
      },
      "source": [
        "\n",
        "print (X[:10])\n",
        "print (y[:10])\n"
      ],
      "execution_count": null,
      "outputs": [
        {
          "output_type": "stream",
          "text": [
            "[[ 1.303374   -0.81478084]\n",
            " [-0.98727894 -0.06456482]\n",
            " [ 2.317555    0.44925394]\n",
            " [ 0.85310268 -0.22083508]\n",
            " [-0.97006406  0.64095693]\n",
            " [ 1.65849049 -0.2342485 ]\n",
            " [ 0.8684624  -0.28940167]\n",
            " [ 0.05631143  0.00296565]\n",
            " [ 0.88824669 -0.12888889]\n",
            " [ 0.9925954   0.31451716]]\n",
            "[1 0 1 1 0 1 1 1 1 0]\n"
          ],
          "name": "stdout"
        }
      ]
    },
    {
      "cell_type": "code",
      "metadata": {
        "id": "3ZT0-29_n_22",
        "colab": {
          "base_uri": "https://localhost:8080/",
          "height": 265
        },
        "outputId": "aae847f6-2170-4ffe-88b1-a1ceebf0da4e"
      },
      "source": [
        "\n",
        "plt.scatter(X[:,0][y==0], X[:,1][y==0], color=\"red\", label=\"class 0\")\n",
        "plt.scatter(X[:,0][y==1], X[:,1][y==1], color=\"blue\", label=\"class 1\")\n",
        "plt.legend();\n"
      ],
      "execution_count": null,
      "outputs": [
        {
          "output_type": "display_data",
          "data": {
            "image/png": "[encoded data removed]",
            "text/plain": [
              "<Figure size 432x288 with 1 Axes>"
            ]
          },
          "metadata": {
            "tags": [],
            "needs_background": "light"
          }
        }
      ]
    },
    {
      "cell_type": "markdown",
      "metadata": {
        "id": "Evcb6iXmn_22"
      },
      "source": [
        "## Task 1: Create a prediction function\n",
        "\n",
        "**complete the following prediction function** which accepts:\n",
        "    \n",
        "- $\\mathbf{\\theta} = [\\theta_0, \\theta_1,... \\theta_{n-1}] \\in \\mathbb{R}^n$, a `numpy` vector.\n",
        "- $b  \\in \\mathbb{R}$ , a `float`.\n",
        "- $\\mathbf{X} \\in \\mathbb{R}^{m\\times n}$, a `numpy` 2D array.\n",
        "\n",
        "and returns\n",
        "\n",
        "- $\\hat{\\mathbf{y}} = [\\hat{y}^{(0)}, \\hat{y}^{(1)}, ..., \\hat{y}^{(m-1)}] \\in \\mathbb{R}^m$ defined as follows\n",
        "\n",
        "$$\\hat{y}^{(i)} = \\text{sigm}(\\mathbf{\\theta} \\cdot \\mathbf{x}^{(i)} + b) = \\text{sigm}(\\theta_0 x^{(i)}_0 + \\theta_1 x^{(i)}_1 + b)$$\n",
        "\n",
        "with \n",
        "\n",
        "$$\\text{sigm}(z) = \\frac{1}{1+e^{-z}}$$\n",
        "\n",
        "note that we can also express the prediction vector $\\hat{\\mathbf{y}}$ over the whole dataset as\n",
        "\n",
        "$$\\hat{\\mathbf{y}} = \\text{sigm}(\\mathbf{\\theta} \\cdot \\mathbf{X} + b)$$\n",
        "\n",
        "observe that for any $z$, the sigmoid function squeshes its value between 0 and 1. It can  be simply seen as a continuous **step** function which converts any negative value into 0, and any positive value into 1.\n",
        "\n",
        "**challenge**: use only one line of python code (not counting the $\\text{sigm}$ definition)\n",
        "\n",
        "**warn**: your function must work with any $\\mathbf{X} \\in \\mathbb{R}^{m\\times n}$ and  $\\mathbf{\\theta} \\in \\mathbb{R}^n$, for any $m$ and $n$, not only for $n=2$"
      ]
    },
    {
      "cell_type": "code",
      "metadata": {
        "id": "hIuEX4eRn_23",
        "colab": {
          "base_uri": "https://localhost:8080/",
          "height": 295
        },
        "outputId": "75bdef47-f65b-4f1f-86f6-044253d32a41"
      },
      "source": [
        "\n",
        "z = np.linspace(-10,10,100)\n",
        "sigm = lambda x: 1/(1+np.exp(-x))\n",
        "plt.plot(z, sigm(z)); plt.grid(); plt.xlabel(\"z\"); plt.ylabel(\"sigm(z)\")\n",
        "plt.axhline(0.5, color=\"black\"); plt.axvline(0, color=\"black\")\n"
      ],
      "execution_count": null,
      "outputs": [
        {
          "output_type": "execute_result",
          "data": {
            "text/plain": [
              "<matplotlib.lines.Line2D at 0x7efcac57a898>"
            ]
          },
          "metadata": {
            "tags": []
          },
          "execution_count": 7
        },
        {
          "output_type": "display_data",
          "data": {
            "image/png": "[encoded data removed]",
            "text/plain": [
              "<Figure size 432x288 with 1 Axes>"
            ]
          },
          "metadata": {
            "tags": [],
            "needs_background": "light"
          }
        }
      ]
    },
    {
      "cell_type": "code",
      "metadata": {
        "id": "Vnb3fBnIn_24"
      },
      "source": [
        ""
      ],
      "execution_count": null,
      "outputs": []
    },
    {
      "cell_type": "code",
      "metadata": {
        "id": "wk7pWlo5n_24"
      },
      "source": [
        "def prediction(t,b,X):\n",
        "    sigm = lambda z: 1/(1+np.exp(-z)) \n",
        "    yhat = sigm(np.dot(X,t)+b) # YOUR CODE HERE\n",
        "    return yhat"
      ],
      "execution_count": null,
      "outputs": []
    },
    {
      "cell_type": "markdown",
      "metadata": {
        "id": "CORhzayqn_24"
      },
      "source": [
        "check manually your code. The following should yield a vector with 200 elements, whose sum should be 99.97 at its four first elements \n",
        "\n",
        "    [0.02328672 0.91257015 0.03781132 0.16139629 ... ]"
      ]
    },
    {
      "cell_type": "code",
      "metadata": {
        "id": "jyhRPD4-n_24",
        "colab": {
          "base_uri": "https://localhost:8080/"
        },
        "outputId": "c7c94c88-ff73-4f47-e0a6-6429cff3c7f4"
      },
      "source": [
        "t,b = np.r_[[-2,2]], 0.5\n",
        "yhat = prediction(t,b,X)\n",
        "print (yhat.shape)\n",
        "print (np.sum(yhat))\n",
        "print (yhat)"
      ],
      "execution_count": null,
      "outputs": [
        {
          "output_type": "stream",
          "text": [
            "(200,)\n",
            "99.97386377320547\n",
            "[0.02328672 0.91257015 0.03781132 0.16139629 0.97638655 0.03607275\n",
            " 0.13994725 0.59707888 0.17736962 0.29814299 0.65755661 0.1771665\n",
            " 0.10336722 0.36797186 0.04604533 0.09808586 0.56288781 0.13838998\n",
            " 0.85687064 0.05004791 0.02243482 0.10694533 0.66303597 0.05995927\n",
            " 0.5648827  0.03165357 0.17804726 0.98365697 0.08950736 0.17469931\n",
            " 0.03471958 0.93813354 0.05558113 0.6827537  0.10439341 0.0357004\n",
            " 0.19535612 0.97352349 0.58294619 0.11848779 0.64419508 0.94637233\n",
            " 0.4612505  0.96468022 0.1091973  0.9605648  0.04208797 0.86259254\n",
            " 0.02494794 0.8807287  0.24871015 0.94949941 0.97747638 0.06270446\n",
            " 0.97809036 0.5477603  0.05661584 0.98141433 0.02484988 0.94894862\n",
            " 0.58416607 0.76381496 0.36141804 0.84771584 0.16951545 0.88137323\n",
            " 0.96772376 0.0273022  0.43314501 0.89612832 0.86652099 0.9318912\n",
            " 0.66531857 0.98465757 0.01876907 0.0682854  0.91618647 0.96553816\n",
            " 0.67409963 0.43668183 0.3977055  0.24321165 0.69574722 0.04491925\n",
            " 0.1119693  0.02306961 0.04528634 0.10014058 0.04712416 0.30797157\n",
            " 0.95817597 0.03392095 0.60514889 0.06472612 0.34814159 0.9639904\n",
            " 0.63448775 0.95037498 0.95805031 0.97508267 0.89041751 0.87476677\n",
            " 0.05665916 0.97904327 0.11864747 0.55311165 0.81724032 0.94256753\n",
            " 0.07224916 0.04882344 0.97316194 0.85889144 0.94822145 0.06892718\n",
            " 0.61466904 0.01599037 0.91495974 0.81595554 0.20128128 0.78771593\n",
            " 0.76263319 0.68163979 0.94591105 0.0231061  0.54592907 0.79990745\n",
            " 0.80074137 0.34843172 0.07084613 0.9772565  0.30895417 0.95269949\n",
            " 0.1671651  0.70559761 0.00785656 0.33772067 0.03987279 0.94621878\n",
            " 0.88046924 0.03591547 0.96063594 0.94795017 0.80540486 0.03490292\n",
            " 0.26098632 0.21860677 0.55835667 0.12158367 0.98436662 0.02829939\n",
            " 0.94893523 0.88955562 0.82298945 0.96543914 0.04244038 0.96221766\n",
            " 0.57343511 0.09026756 0.07671437 0.96098677 0.54319756 0.61619537\n",
            " 0.03204009 0.96727823 0.0658985  0.11303289 0.64048045 0.80388491\n",
            " 0.22333058 0.84354772 0.92846589 0.26403884 0.97407814 0.97219881\n",
            " 0.97367449 0.2189301  0.06723228 0.81025717 0.02930671 0.03592065\n",
            " 0.88085375 0.95777161 0.95975867 0.85554001 0.96734573 0.76952622\n",
            " 0.04370447 0.82137535 0.03089646 0.52977519 0.06320069 0.60691788\n",
            " 0.22374885 0.38813177 0.16200154 0.01663967 0.54415955 0.97510455\n",
            " 0.28021284 0.97090871]\n"
          ],
          "name": "stdout"
        }
      ]
    },
    {
      "cell_type": "markdown",
      "metadata": {
        "id": "Qsd_j2nnn_25"
      },
      "source": [
        "**submit your code**"
      ]
    },
    {
      "cell_type": "code",
      "metadata": {
        "scrolled": true,
        "id": "3zXfaBAvn_25",
        "colab": {
          "base_uri": "https://localhost:8080/",
          "height": 153
        },
        "outputId": "a49e0eed-7391-4ddc-f487-79d80954b33f"
      },
      "source": [
        "student.submit_task(globals(), task_id=\"task_01\");"
      ],
      "execution_count": null,
      "outputs": [
        {
          "output_type": "display_data",
          "data": {
            "text/html": [
              "\n",
              "                <b>task_01 submitted.</b> <b><font color=\"blue\">your grade is 5</font></b> \n",
              "                <p/><pre>----- grader message -------</pre><br/>testing with 100 random calls<br/><br/><b>correct</b><pre>----------------------------</pre>\n",
              "                <p/><p/>\n",
              "                <div style=\"font-size:10px\"><b>SUBMISSION CODE</b> 7hZg+WJPklF9jeWI8YddcEQ7BfzTACYjCGnHwxLyCeQOF/Sfl7ZhiTTlMdUhYqBxmm2vDohxtdYqwxVGWCVy0psLFJDz3cTa2fXo5qT4gta71DG6JRaI07N5U+s4AfdNHPTQtAaKzWAH0jsvQW8H0A==</div>\n",
              "                "
            ],
            "text/plain": [
              "<IPython.core.display.HTML object>"
            ]
          },
          "metadata": {
            "tags": []
          }
        }
      ]
    },
    {
      "cell_type": "code",
      "metadata": {
        "id": "MciLCo04n_25"
      },
      "source": [
        ""
      ],
      "execution_count": null,
      "outputs": []
    },
    {
      "cell_type": "code",
      "metadata": {
        "id": "TrPPq1qQn_26"
      },
      "source": [
        ""
      ],
      "execution_count": null,
      "outputs": []
    },
    {
      "cell_type": "code",
      "metadata": {
        "id": "z9TAJhmin_26"
      },
      "source": [
        ""
      ],
      "execution_count": null,
      "outputs": []
    },
    {
      "cell_type": "markdown",
      "metadata": {
        "id": "7_6kcjCpn_26"
      },
      "source": [
        "## Task 2: Create the loss function\n",
        "\n",
        "accepting the following paramters\n",
        "\n",
        "- $\\mathbf{\\theta} = [\\theta_0, \\theta_1] \\in \\mathbb{R}^n$, a `numpy` vector.\n",
        "- $b  \\in \\mathbb{R}$ , a `float`.\n",
        "- $\\mathbf{X} \\in \\mathbb{R}^{m\\times n}$, a `numpy` 2D array.\n",
        "- $\\mathbf{y} \\in \\mathbb{R}^m$, a `numpy` vector.\n",
        "\n",
        "\n",
        "$$\\text{loss}(\\theta, b, \\mathbf{X} , \\mathbf{y}) = \\frac{1}{m}\\sum_{i=0}^{m-1}(\\hat{y}^{(i)}-y^{(i)})^2$$\n",
        "\n",
        "**challenge**: use only one line of python (not counting the `sigm` and `prediction` functions)."
      ]
    },
    {
      "cell_type": "code",
      "metadata": {
        "id": "c32Q8xY2n_26"
      },
      "source": [
        "def loss(t,b,X,y):\n",
        "    sigm = lambda z: 1/(1+np.exp(-z)) \n",
        "    return np.mean( (sigm(np.dot(X,t)+b)-y)**2)"
      ],
      "execution_count": null,
      "outputs": []
    },
    {
      "cell_type": "markdown",
      "metadata": {
        "id": "02eW8294n_27"
      },
      "source": [
        "check manually your code, you should get a loss of 0.664 approx."
      ]
    },
    {
      "cell_type": "code",
      "metadata": {
        "id": "JsgplE8Tn_27",
        "colab": {
          "base_uri": "https://localhost:8080/"
        },
        "outputId": "c028c7cf-bb77-4240-fa5f-d5e407a1b92f"
      },
      "source": [
        "t,b = np.r_[[-2,2]], 0.5\n",
        "loss(t,b,X,y)"
      ],
      "execution_count": null,
      "outputs": [
        {
          "output_type": "execute_result",
          "data": {
            "text/plain": [
              "0.6640737783637011"
            ]
          },
          "metadata": {
            "tags": []
          },
          "execution_count": 12
        }
      ]
    },
    {
      "cell_type": "markdown",
      "metadata": {
        "id": "wvvx3eG7n_27"
      },
      "source": [
        "**submit your code**"
      ]
    },
    {
      "cell_type": "code",
      "metadata": {
        "scrolled": false,
        "id": "2vxgjJRUn_28",
        "colab": {
          "base_uri": "https://localhost:8080/",
          "height": 153
        },
        "outputId": "5b993b30-37dc-4b0a-fc3a-34cdb9526b44"
      },
      "source": [
        "student.submit_task(globals(), task_id=\"task_02\");"
      ],
      "execution_count": null,
      "outputs": [
        {
          "output_type": "display_data",
          "data": {
            "text/html": [
              "\n",
              "                <b>task_02 submitted.</b> <b><font color=\"blue\">your grade is 5</font></b> \n",
              "                <p/><pre>----- grader message -------</pre><br/>testing with 100 random calls<br/><br/><b>correct</b><pre>----------------------------</pre>\n",
              "                <p/><p/>\n",
              "                <div style=\"font-size:10px\"><b>SUBMISSION CODE</b> qyYbR6dqyWIgEj+e0VZscevUXZDX7WoNuTMH0Qpmn4O99dk96QlYQ4K3iWiYVB8oB3sw9Xp+S21yihgql6e7NYA30rwUx6tMU1lPwHdFUwCakGRI7nMPL2MG20Vbly1mpFxN9NTXETYJ8UTtK84iTA==</div>\n",
              "                "
            ],
            "text/plain": [
              "<IPython.core.display.HTML object>"
            ]
          },
          "metadata": {
            "tags": []
          }
        }
      ]
    },
    {
      "cell_type": "code",
      "metadata": {
        "id": "MKSgdrCzn_28"
      },
      "source": [
        ""
      ],
      "execution_count": null,
      "outputs": []
    },
    {
      "cell_type": "markdown",
      "metadata": {
        "id": "sSff2TDvn_28"
      },
      "source": [
        "## Task 3: Obtain the best $\\theta$ and $b$ with black box optimization\n",
        "\n",
        "Complete the following function so that it returns the best $\\theta$ and $b$ for a given data set.\n",
        "\n",
        "Observe that \n",
        "\n",
        "- `x0` in `scipy.optimize.minimize` must be a vector of three items, the first two corresponding to $\\theta_0$ and $\\theta_1$, and the last one to $b$. \n",
        "- the return value of the optimizer `r.x` will also contain three items, and you will have to separate the first two into `t` and the last one into `b`. \n",
        "- you will have to adapt your `loss` function created before so that it extracts $\\theta$ and $b$ from the variable `params`."
      ]
    },
    {
      "cell_type": "code",
      "metadata": {
        "id": "2dlcOldXn_28"
      },
      "source": [
        "def fit(X,y):\n",
        "    from scipy.optimize import minimize\n",
        "    \n",
        "    def loss(params):\n",
        "        t = params[0:2] # extract t from params\n",
        "        b = params[2] # extract b params\n",
        "        sigm = lambda z: 1/(1+np.exp(-z))       \n",
        "        return np.mean( (sigm(np.dot(X,t)+b)-y)**2) # your code here\n",
        "    \n",
        "    tinit = np.zeros(shape=X.shape[1]+1) # keep this initialization\n",
        "    r = minimize(loss, x0=tinit) # complete the call to minimize\n",
        "    t = r.x[0:2] # extract t from r.x\n",
        "    b = r.x[2] # extract b from r.x\n",
        "    return t, b"
      ],
      "execution_count": null,
      "outputs": []
    },
    {
      "cell_type": "code",
      "metadata": {
        "id": "E_LrHrG-n_29"
      },
      "source": [
        "t, b = fit(X,y)"
      ],
      "execution_count": null,
      "outputs": []
    },
    {
      "cell_type": "markdown",
      "metadata": {
        "id": "wCbvwI4nn_29"
      },
      "source": [
        "check manually your code, you should get an accuracy of about 84%-87%, and a classification frontier similar to this one.\n",
        "\n",
        "**Observe** how we convert the sigmoid output which can be any number $\\in [0,1]$, into a discrete classification (0 or 1) by thresholding on 0.5"
      ]
    },
    {
      "cell_type": "code",
      "metadata": {
        "id": "0FIHaf9qn_29",
        "colab": {
          "base_uri": "https://localhost:8080/",
          "height": 265
        },
        "outputId": "a1c78688-395c-453d-ae41-849d466d1c39"
      },
      "source": [
        "\n",
        "from IPython.display import Image\n",
        "Image(filename='local/imgs/logregmoons.png')\n"
      ],
      "execution_count": null,
      "outputs": [
        {
          "output_type": "execute_result",
          "data": {
            "image/png": "[encoded data removed]",
            "text/plain": [
              "<IPython.core.display.Image object>"
            ]
          },
          "metadata": {
            "tags": []
          },
          "execution_count": 16
        }
      ]
    },
    {
      "cell_type": "code",
      "metadata": {
        "id": "sQQ_BSHWn_3A",
        "colab": {
          "base_uri": "https://localhost:8080/"
        },
        "outputId": "6f0af44b-12bf-4c56-c658-c380ddf6cf00"
      },
      "source": [
        "t, b"
      ],
      "execution_count": null,
      "outputs": [
        {
          "output_type": "execute_result",
          "data": {
            "text/plain": [
              "(array([ 1.06062613, -3.83856949]), 0.3670749183399449)"
            ]
          },
          "metadata": {
            "tags": []
          },
          "execution_count": 17
        }
      ]
    },
    {
      "cell_type": "code",
      "metadata": {
        "id": "iWKHTF12n_3B",
        "colab": {
          "base_uri": "https://localhost:8080/",
          "height": 281
        },
        "outputId": "5d1c19c6-96ae-4b38-cd2d-81941268d612"
      },
      "source": [
        "mlutils.plot_2Ddata_with_boundary(lambda X: prediction(t,b,X)>.5, X, y)"
      ],
      "execution_count": null,
      "outputs": [
        {
          "output_type": "execute_result",
          "data": {
            "text/plain": [
              "(0.517275, 0.482725)"
            ]
          },
          "metadata": {
            "tags": []
          },
          "execution_count": 18
        },
        {
          "output_type": "display_data",
          "data": {
            "image/png": "[encoded data removed]",
            "text/plain": [
              "<Figure size 432x288 with 1 Axes>"
            ]
          },
          "metadata": {
            "tags": [],
            "needs_background": "light"
          }
        }
      ]
    },
    {
      "cell_type": "code",
      "metadata": {
        "id": "ekVSFfZ0n_3B",
        "colab": {
          "base_uri": "https://localhost:8080/"
        },
        "outputId": "8ae7f30f-c233-46ce-e40b-79fcf1cf2be3"
      },
      "source": [
        "acc = np.mean( (prediction(t,b,X)>.5)==y)\n",
        "print (\"accuracy %.3f\"%acc)"
      ],
      "execution_count": null,
      "outputs": [
        {
          "output_type": "stream",
          "text": [
            "accuracy 0.860\n"
          ],
          "name": "stdout"
        }
      ]
    },
    {
      "cell_type": "code",
      "metadata": {
        "id": "pqFKwVLSn_3C"
      },
      "source": [
        ""
      ],
      "execution_count": null,
      "outputs": []
    },
    {
      "cell_type": "markdown",
      "metadata": {
        "id": "zLrG1Egvn_3C"
      },
      "source": [
        "**submit your code**"
      ]
    },
    {
      "cell_type": "code",
      "metadata": {
        "scrolled": false,
        "id": "F0rhQX_Dn_3C",
        "colab": {
          "base_uri": "https://localhost:8080/",
          "height": 153
        },
        "outputId": "59cdac94-6763-4ace-d5e3-2d199cf52b6c"
      },
      "source": [
        "student.submit_task(globals(), task_id=\"task_03\");"
      ],
      "execution_count": null,
      "outputs": [
        {
          "output_type": "display_data",
          "data": {
            "text/html": [
              "\n",
              "                <b>task_03 submitted.</b> <b><font color=\"blue\">your grade is 5</font></b> \n",
              "                <p/><pre>----- grader message -------</pre><br/>testing with 100 random calls<br/><br/><b>correct</b><pre>----------------------------</pre>\n",
              "                <p/><p/>\n",
              "                <div style=\"font-size:10px\"><b>SUBMISSION CODE</b> CmfEzP/Q2/oMOeVkQZkqqRaV0DTZMnBwp89Qk9crVQ/T5e/NpZGrupmAEWxJWfI14OqnZgG+9vtUshSM1TAyROaXcx6mZ8ht188avotzH6WMFKfVPzl4qNscSehruZI6EyWC0j4E7AzbGVwWFTAfhQ==</div>\n",
              "                "
            ],
            "text/plain": [
              "<IPython.core.display.HTML object>"
            ]
          },
          "metadata": {
            "tags": []
          }
        }
      ]
    },
    {
      "cell_type": "code",
      "metadata": {
        "id": "1Kjnlp3an_3D"
      },
      "source": [
        ""
      ],
      "execution_count": null,
      "outputs": []
    },
    {
      "cell_type": "code",
      "metadata": {
        "id": "QdSSfFIyn_3D"
      },
      "source": [
        ""
      ],
      "execution_count": null,
      "outputs": []
    }
  ]
}